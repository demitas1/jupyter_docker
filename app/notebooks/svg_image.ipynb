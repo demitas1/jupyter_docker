{
 "cells": [
  {
   "cell_type": "code",
   "execution_count": 1,
   "id": "74fb6cba-6ab9-46bc-8900-50ecef09508b",
   "metadata": {},
   "outputs": [
    {
     "data": {
      "image/svg+xml": [
       "<svg xmlns=\"http://www.w3.org/2000/svg\" xmlns:ev=\"http://www.w3.org/2001/xml-events\" xmlns:xlink=\"http://www.w3.org/1999/xlink\" baseProfile=\"full\" height=\"200\" version=\"1.1\" width=\"200\"><defs/><circle cx=\"100\" cy=\"100\" fill=\"red\" r=\"50\"/><rect fill=\"blue\" height=\"50\" width=\"50\" x=\"25\" y=\"25\"/><text fill=\"green\" font-size=\"20px\" x=\"70\" y=\"180\">Hello SVG!</text></svg>"
      ],
      "text/plain": [
       "<IPython.core.display.SVG object>"
      ]
     },
     "metadata": {},
     "output_type": "display_data"
    },
    {
     "name": "stdout",
     "output_type": "stream",
     "text": [
      "SVG image has been saved as output.svg\n"
     ]
    }
   ],
   "source": [
    "import svgwrite\n",
    "from IPython.display import SVG, display\n",
    "\n",
    "def create_svg(filename=\"output.svg\", size=(200, 200)):\n",
    "    dwg = svgwrite.Drawing(filename, size=size)\n",
    "    \n",
    "    # Add a red circle\n",
    "    dwg.add(dwg.circle(center=(100, 100), r=50, fill='red'))\n",
    "    \n",
    "    # Add a blue rectangle\n",
    "    dwg.add(dwg.rect(insert=(25, 25), size=(50, 50), fill='blue'))\n",
    "    \n",
    "    # Add some text\n",
    "    dwg.add(dwg.text('Hello SVG!', insert=(70, 180), fill='green', font_size='20px'))\n",
    "    \n",
    "    # Save the SVG file\n",
    "    dwg.save()\n",
    "    \n",
    "    return filename\n",
    "\n",
    "# Create the SVG\n",
    "svg_file = create_svg()\n",
    "\n",
    "# Display the SVG in the notebook\n",
    "display(SVG(svg_file))\n",
    "\n",
    "print(f\"SVG image has been saved as {svg_file}\")"
   ]
  },
  {
   "cell_type": "code",
   "execution_count": null,
   "id": "d1503317-916a-44f3-bc98-e5f048d1f9f3",
   "metadata": {},
   "outputs": [],
   "source": []
  }
 ],
 "metadata": {
  "kernelspec": {
   "display_name": "Python 3 (ipykernel)",
   "language": "python",
   "name": "python3"
  },
  "language_info": {
   "codemirror_mode": {
    "name": "ipython",
    "version": 3
   },
   "file_extension": ".py",
   "mimetype": "text/x-python",
   "name": "python",
   "nbconvert_exporter": "python",
   "pygments_lexer": "ipython3",
   "version": "3.9.20"
  }
 },
 "nbformat": 4,
 "nbformat_minor": 5
}
